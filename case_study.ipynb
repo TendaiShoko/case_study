{
 "cells": [
  {
   "cell_type": "code",
   "execution_count": 2,
   "metadata": {
    "collapsed": true
   },
   "outputs": [],
   "source": [
    "import pandas as pd\n",
    "import numpy as np\n",
    "import seaborn as sns\n",
    "import matplotlib.pyplot as plt\n",
    "from sklearn.metrics import confusion_matrix\n",
    "import warnings\n",
    "warnings.simplefilter(\"ignore\")\n",
    "from sklearn.preprocessing import MinMaxScaler\n",
    "from sklearn.model_selection import train_test_split\n",
    "import statsmodels.api as sm\n",
    "\n",
    "from sklearn.metrics import confusion_matrix\n",
    "from sklearn.metrics import accuracy_score\n",
    "from sklearn.metrics import f1_score\n",
    "from sklearn.metrics import recall_score"
   ]
  },
  {
   "cell_type": "code",
   "execution_count": 3,
   "outputs": [],
   "source": [
    "data = pd.read_csv('case_study.csv')\n"
   ],
   "metadata": {
    "collapsed": false,
    "pycharm": {
     "name": "#%%\n"
    }
   }
  },
  {
   "cell_type": "code",
   "execution_count": 4,
   "outputs": [
    {
     "data": {
      "text/plain": "  HeartDisease    BMI Smoking AlcoholDrinking Stroke  PhysicalHealth     ID  \\\n0           No  16.60     Yes              No     No               3  13423   \n1           No  20.34      No              No    Yes               0  33574   \n2           No  26.58     Yes              No     No              20  65906   \n3           No  24.21      No              No     No               0  92780   \n4           No  23.71      No              No     No              28  51415   \n5          Yes  28.87     Yes              No     No               6  15651   \n6           No  21.63      No              No     No              15  43119   \n7           No  31.64     Yes              No     No               5  33301   \n8           No  26.45      No              No     No               0  18545   \n9           No  40.69      No              No     No               0  35881   \n\n   MentalHealth DiffWalking  Income     Sex  AgeCategory   Race  \\\n0            30          No   30000  Female        55-59  White   \n1             0          No   40000  Female  80 or older  White   \n2            30          No   40000    Male        65-69  White   \n3             0          No   40000  Female        75-79  White   \n4             0         Yes   40000  Female        40-44  White   \n5             0         Yes   30000  Female        75-79  Black   \n6             0          No   20000  Female        70-74  White   \n7             0         Yes   10000  Female  80 or older  White   \n8             0          No   30000  Female  80 or older  White   \n9             0         Yes   40000    Male        65-69  White   \n\n                  Diabetic PhysicalActivity  GenHealth  SleepTime Asthma  \\\n0                      Yes              Yes  Very good          5    Yes   \n1                       No              Yes  Very good          7     No   \n2                      Yes              Yes       Fair          8    Yes   \n3                       No               No       Good          6     No   \n4                       No              Yes  Very good          8     No   \n5                       No               No       Fair         12     No   \n6                       No              Yes       Fair          4    Yes   \n7                      Yes               No       Good          9    Yes   \n8  No, borderline diabetes               No       Fair          5     No   \n9                       No              Yes       Good         10     No   \n\n  KidneyDisease SkinCancer  \n0            No        Yes  \n1            No         No  \n2            No         No  \n3            No        Yes  \n4            No         No  \n5            No         No  \n6            No        Yes  \n7            No         No  \n8           Yes         No  \n9            No         No  ",
      "text/html": "<div>\n<style scoped>\n    .dataframe tbody tr th:only-of-type {\n        vertical-align: middle;\n    }\n\n    .dataframe tbody tr th {\n        vertical-align: top;\n    }\n\n    .dataframe thead th {\n        text-align: right;\n    }\n</style>\n<table border=\"1\" class=\"dataframe\">\n  <thead>\n    <tr style=\"text-align: right;\">\n      <th></th>\n      <th>HeartDisease</th>\n      <th>BMI</th>\n      <th>Smoking</th>\n      <th>AlcoholDrinking</th>\n      <th>Stroke</th>\n      <th>PhysicalHealth</th>\n      <th>ID</th>\n      <th>MentalHealth</th>\n      <th>DiffWalking</th>\n      <th>Income</th>\n      <th>Sex</th>\n      <th>AgeCategory</th>\n      <th>Race</th>\n      <th>Diabetic</th>\n      <th>PhysicalActivity</th>\n      <th>GenHealth</th>\n      <th>SleepTime</th>\n      <th>Asthma</th>\n      <th>KidneyDisease</th>\n      <th>SkinCancer</th>\n    </tr>\n  </thead>\n  <tbody>\n    <tr>\n      <th>0</th>\n      <td>No</td>\n      <td>16.60</td>\n      <td>Yes</td>\n      <td>No</td>\n      <td>No</td>\n      <td>3</td>\n      <td>13423</td>\n      <td>30</td>\n      <td>No</td>\n      <td>30000</td>\n      <td>Female</td>\n      <td>55-59</td>\n      <td>White</td>\n      <td>Yes</td>\n      <td>Yes</td>\n      <td>Very good</td>\n      <td>5</td>\n      <td>Yes</td>\n      <td>No</td>\n      <td>Yes</td>\n    </tr>\n    <tr>\n      <th>1</th>\n      <td>No</td>\n      <td>20.34</td>\n      <td>No</td>\n      <td>No</td>\n      <td>Yes</td>\n      <td>0</td>\n      <td>33574</td>\n      <td>0</td>\n      <td>No</td>\n      <td>40000</td>\n      <td>Female</td>\n      <td>80 or older</td>\n      <td>White</td>\n      <td>No</td>\n      <td>Yes</td>\n      <td>Very good</td>\n      <td>7</td>\n      <td>No</td>\n      <td>No</td>\n      <td>No</td>\n    </tr>\n    <tr>\n      <th>2</th>\n      <td>No</td>\n      <td>26.58</td>\n      <td>Yes</td>\n      <td>No</td>\n      <td>No</td>\n      <td>20</td>\n      <td>65906</td>\n      <td>30</td>\n      <td>No</td>\n      <td>40000</td>\n      <td>Male</td>\n      <td>65-69</td>\n      <td>White</td>\n      <td>Yes</td>\n      <td>Yes</td>\n      <td>Fair</td>\n      <td>8</td>\n      <td>Yes</td>\n      <td>No</td>\n      <td>No</td>\n    </tr>\n    <tr>\n      <th>3</th>\n      <td>No</td>\n      <td>24.21</td>\n      <td>No</td>\n      <td>No</td>\n      <td>No</td>\n      <td>0</td>\n      <td>92780</td>\n      <td>0</td>\n      <td>No</td>\n      <td>40000</td>\n      <td>Female</td>\n      <td>75-79</td>\n      <td>White</td>\n      <td>No</td>\n      <td>No</td>\n      <td>Good</td>\n      <td>6</td>\n      <td>No</td>\n      <td>No</td>\n      <td>Yes</td>\n    </tr>\n    <tr>\n      <th>4</th>\n      <td>No</td>\n      <td>23.71</td>\n      <td>No</td>\n      <td>No</td>\n      <td>No</td>\n      <td>28</td>\n      <td>51415</td>\n      <td>0</td>\n      <td>Yes</td>\n      <td>40000</td>\n      <td>Female</td>\n      <td>40-44</td>\n      <td>White</td>\n      <td>No</td>\n      <td>Yes</td>\n      <td>Very good</td>\n      <td>8</td>\n      <td>No</td>\n      <td>No</td>\n      <td>No</td>\n    </tr>\n    <tr>\n      <th>5</th>\n      <td>Yes</td>\n      <td>28.87</td>\n      <td>Yes</td>\n      <td>No</td>\n      <td>No</td>\n      <td>6</td>\n      <td>15651</td>\n      <td>0</td>\n      <td>Yes</td>\n      <td>30000</td>\n      <td>Female</td>\n      <td>75-79</td>\n      <td>Black</td>\n      <td>No</td>\n      <td>No</td>\n      <td>Fair</td>\n      <td>12</td>\n      <td>No</td>\n      <td>No</td>\n      <td>No</td>\n    </tr>\n    <tr>\n      <th>6</th>\n      <td>No</td>\n      <td>21.63</td>\n      <td>No</td>\n      <td>No</td>\n      <td>No</td>\n      <td>15</td>\n      <td>43119</td>\n      <td>0</td>\n      <td>No</td>\n      <td>20000</td>\n      <td>Female</td>\n      <td>70-74</td>\n      <td>White</td>\n      <td>No</td>\n      <td>Yes</td>\n      <td>Fair</td>\n      <td>4</td>\n      <td>Yes</td>\n      <td>No</td>\n      <td>Yes</td>\n    </tr>\n    <tr>\n      <th>7</th>\n      <td>No</td>\n      <td>31.64</td>\n      <td>Yes</td>\n      <td>No</td>\n      <td>No</td>\n      <td>5</td>\n      <td>33301</td>\n      <td>0</td>\n      <td>Yes</td>\n      <td>10000</td>\n      <td>Female</td>\n      <td>80 or older</td>\n      <td>White</td>\n      <td>Yes</td>\n      <td>No</td>\n      <td>Good</td>\n      <td>9</td>\n      <td>Yes</td>\n      <td>No</td>\n      <td>No</td>\n    </tr>\n    <tr>\n      <th>8</th>\n      <td>No</td>\n      <td>26.45</td>\n      <td>No</td>\n      <td>No</td>\n      <td>No</td>\n      <td>0</td>\n      <td>18545</td>\n      <td>0</td>\n      <td>No</td>\n      <td>30000</td>\n      <td>Female</td>\n      <td>80 or older</td>\n      <td>White</td>\n      <td>No, borderline diabetes</td>\n      <td>No</td>\n      <td>Fair</td>\n      <td>5</td>\n      <td>No</td>\n      <td>Yes</td>\n      <td>No</td>\n    </tr>\n    <tr>\n      <th>9</th>\n      <td>No</td>\n      <td>40.69</td>\n      <td>No</td>\n      <td>No</td>\n      <td>No</td>\n      <td>0</td>\n      <td>35881</td>\n      <td>0</td>\n      <td>Yes</td>\n      <td>40000</td>\n      <td>Male</td>\n      <td>65-69</td>\n      <td>White</td>\n      <td>No</td>\n      <td>Yes</td>\n      <td>Good</td>\n      <td>10</td>\n      <td>No</td>\n      <td>No</td>\n      <td>No</td>\n    </tr>\n  </tbody>\n</table>\n</div>"
     },
     "execution_count": 4,
     "metadata": {},
     "output_type": "execute_result"
    }
   ],
   "source": [
    "data.head(10)"
   ],
   "metadata": {
    "collapsed": false,
    "pycharm": {
     "name": "#%%\n"
    }
   }
  },
  {
   "cell_type": "code",
   "execution_count": null,
   "outputs": [],
   "source": [],
   "metadata": {
    "collapsed": false,
    "pycharm": {
     "name": "#%%\n"
    }
   }
  }
 ],
 "metadata": {
  "kernelspec": {
   "display_name": "Python 3",
   "language": "python",
   "name": "python3"
  },
  "language_info": {
   "codemirror_mode": {
    "name": "ipython",
    "version": 2
   },
   "file_extension": ".py",
   "mimetype": "text/x-python",
   "name": "python",
   "nbconvert_exporter": "python",
   "pygments_lexer": "ipython2",
   "version": "2.7.6"
  }
 },
 "nbformat": 4,
 "nbformat_minor": 0
}